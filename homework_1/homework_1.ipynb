{
 "cells": [
  {
   "cell_type": "code",
   "execution_count": 52,
   "id": "6b15fc92",
   "metadata": {},
   "outputs": [],
   "source": [
    "import subprocess\n",
    "from chardet import detect\n",
    "from pprint import pprint"
   ]
  },
  {
   "cell_type": "markdown",
   "id": "20732d3c",
   "metadata": {},
   "source": [
    "1. Каждое из слов «разработка», «сокет», «декоратор» представить в строковом формате и проверить тип и содержание соответствующих переменных. Затем с помощью онлайн-конвертера преобразовать строковые представление в формат Unicode и также проверить тип и содержимое переменных."
   ]
  },
  {
   "cell_type": "code",
   "execution_count": 54,
   "id": "307bec28",
   "metadata": {},
   "outputs": [
    {
     "name": "stdout",
     "output_type": "stream",
     "text": [
      "разработка - <class 'str'>\n",
      "сокет - <class 'str'>\n",
      "декоратор - <class 'str'>\n",
      "разработка - <class 'str'>\n",
      "сокет - <class 'str'>\n",
      "дкоратор - <class 'str'>\n"
     ]
    }
   ],
   "source": [
    "string_words = ['разработка', 'сокет', 'декоратор']\n",
    "unicode_words = [\n",
    "    '\\u0440\\u0430\\u0437\\u0440\\u0430\\u0431\\u043e\\u0442\\u043a\\u0430',\n",
    "    '\\u0441\\u043e\\u043a\\u0435\\u0442',\n",
    "    '\\u0434\\u043a\\u043e\\u0440\\u0430\\u0442\\u043e\\u0440'\n",
    "]\n",
    "\n",
    "for string_word in string_words:\n",
    "    print(f'{string_word} - {type(string_word)}')\n",
    "\n",
    "for unicode_word in unicode_words:\n",
    "    print(f'{unicode_word} - {type(unicode_word)}')"
   ]
  },
  {
   "cell_type": "markdown",
   "id": "4a3aaaf2",
   "metadata": {},
   "source": [
    "2. Каждое из слов «class», «function», «method» записать в байтовом типе. Сделать это необходимо в автоматическом, а не ручном режиме, с помощью добавления литеры b к текстовому значению, (т.е. ни в коем случае не используя методы encode, decode или функцию bytes) и определить тип, содержимое и длину соответствующих переменных."
   ]
  },
  {
   "cell_type": "code",
   "execution_count": 55,
   "id": "0619f5e9",
   "metadata": {},
   "outputs": [
    {
     "name": "stdout",
     "output_type": "stream",
     "text": [
      "b'class' - <class 'bytes'> - 5 bytes\n",
      "b'function' - <class 'bytes'> - 8 bytes\n",
      "b'method' - <class 'bytes'> - 6 bytes\n"
     ]
    }
   ],
   "source": [
    "string_words = ['class', 'function', 'method']\n",
    "\n",
    "for string_word in string_words:\n",
    "    bytes_word = eval(f\"b'{string_word}'\")\n",
    "    print(f'{bytes_word} - {type(bytes_word)} - {len(bytes_word)} bytes')"
   ]
  },
  {
   "cell_type": "markdown",
   "id": "7bfe0769",
   "metadata": {},
   "source": [
    "3. Определить, какие из слов «attribute», «класс», «функция», «type» невозможно записать в байтовом типе. Важно: решение должно быть универсальным, т.е. не зависеть от того, какие конкретно слова мы исследуем."
   ]
  },
  {
   "cell_type": "code",
   "execution_count": 56,
   "id": "63034120",
   "metadata": {},
   "outputs": [
    {
     "name": "stdout",
     "output_type": "stream",
     "text": [
      "Word \"класс\" impossible to convert to bytes string\n",
      "Word \"функция\" impossible to convert to bytes string\n"
     ]
    }
   ],
   "source": [
    "words = ['attribute', 'класс', 'функция', 'type']\n",
    "\n",
    "# for word in words:\n",
    "#     if not word.isascii():\n",
    "#         print(f'Слово \"{word}\" невозможно записать в ввиде байтовой строки')\n",
    "\n",
    "for word in words:\n",
    "    print(f'Word \"{word}\" impossible to convert to bytes string') if not word.isascii() else None"
   ]
  },
  {
   "cell_type": "markdown",
   "id": "c91d2a72",
   "metadata": {},
   "source": [
    "4. Преобразовать слова «разработка», «администрирование», «protocol», «standard» из строкового представления в байтовое и выполнить обратное преобразование (используя методы encode и decode)."
   ]
  },
  {
   "cell_type": "code",
   "execution_count": 57,
   "id": "cefb366a",
   "metadata": {},
   "outputs": [
    {
     "name": "stdout",
     "output_type": "stream",
     "text": [
      "[b'\\xd1\\x80\\xd0\\xb0\\xd0\\xb7\\xd1\\x80\\xd0\\xb0\\xd0\\xb1\\xd0\\xbe\\xd1\\x82'\n",
      " b'\\xd0\\xba\\xd0\\xb0',\n",
      " b'\\xd0\\xb0\\xd0\\xb4\\xd0\\xbc\\xd0\\xb8\\xd0\\xbd\\xd0\\xb8\\xd1\\x81\\xd1\\x82'\n",
      " b'\\xd1\\x80\\xd0\\xb8\\xd1\\x80\\xd0\\xbe\\xd0\\xb2\\xd0\\xb0\\xd0\\xbd\\xd0\\xb8\\xd0\\xb5',\n",
      " b'protocol',\n",
      " b'standard']\n",
      "['разработка', 'администрирование', 'protocol', 'standard']\n"
     ]
    }
   ],
   "source": [
    "words = ['разработка', 'администрирование', 'protocol', 'standard']\n",
    "\n",
    "words_bytes = [word.encode('utf-8') for word in words]\n",
    "words_string = [word.decode('utf-8') for word in words_bytes]\n",
    "\n",
    "pprint(words_bytes)\n",
    "print(words_string)"
   ]
  },
  {
   "cell_type": "markdown",
   "id": "5f5cda11",
   "metadata": {},
   "source": [
    "5. Выполнить пинг веб-ресурсов yandex.ru, youtube.com и преобразовать результаты из байтовового в строковый тип на кириллице."
   ]
  },
  {
   "cell_type": "code",
   "execution_count": 60,
   "id": "bbe49b34",
   "metadata": {},
   "outputs": [
    {
     "name": "stdout",
     "output_type": "stream",
     "text": [
      "\n",
      "\n",
      "Pinging yandex.ru [77.88.55.88] with 32 bytes of data:\n",
      "\n",
      "Reply from 77.88.55.88: bytes=32 time=18ms TTL=53\n",
      "\n",
      "Reply from 77.88.55.88: bytes=32 time=16ms TTL=53\n",
      "\n",
      "Reply from 77.88.55.88: bytes=32 time=16ms TTL=53\n",
      "\n",
      "\n",
      "\n",
      "Pinging youtube.com [74.125.205.190] with 32 bytes of data:\n",
      "\n",
      "Reply from 74.125.205.190: bytes=32 time=26ms TTL=107\n",
      "\n",
      "Reply from 74.125.205.190: bytes=32 time=25ms TTL=107\n",
      "\n",
      "Reply from 74.125.205.190: bytes=32 time=25ms TTL=107\n",
      "\n"
     ]
    }
   ],
   "source": [
    "urls = ['yandex.ru', 'youtube.com']\n",
    "\n",
    "for url in urls:\n",
    "    ping_service = subprocess.Popen(('ping', url), stdout=subprocess.PIPE)\n",
    "    \n",
    "    for i, line in enumerate(ping_service.stdout):\n",
    "        line = line.decode(detect(line)['encoding']).encode('utf-8')\n",
    "        print(line.decode('utf-8')) if i < 5 else ping_service.kill()"
   ]
  },
  {
   "cell_type": "markdown",
   "id": "3529b05c",
   "metadata": {},
   "source": [
    "6. Создать текстовый файл test_file.txt, заполнить его тремя строками: «сетевое программирование», «сокет», «декоратор». Далее забыть о том, что мы сами только что создали этот файл и исходить из того, что перед нами файл в неизвестной кодировке. Задача: открыть этот файл БЕЗ ОШИБОК вне зависимости от того, в какой кодировке он был создан."
   ]
  },
  {
   "cell_type": "code",
   "execution_count": 75,
   "id": "d4edeb87",
   "metadata": {},
   "outputs": [
    {
     "name": "stdout",
     "output_type": "stream",
     "text": [
      "windows-1251\n",
      "сетевое программирование\n",
      "сокет\n",
      "декоратор\n",
      "\n"
     ]
    }
   ],
   "source": [
    "lines = ['сетевое программирование', 'сокет', 'декоратор']\n",
    "\n",
    "with open('test_file.txt', 'w') as f:\n",
    "    for line in lines:\n",
    "        f.write(f'{line}\\n')\n",
    "\n",
    "with open('test_file.txt', 'rb') as f:\n",
    "    file_lines = f.read()\n",
    "\n",
    "encoding = detect(file_lines)['encoding']\n",
    "\n",
    "with open('test_file.txt', 'r', encoding=encoding) as file:\n",
    "    file_lines = file.read()\n",
    "\n",
    "print(f'{encoding}\\n{file_lines}')"
   ]
  }
 ],
 "metadata": {
  "kernelspec": {
   "display_name": "Python 3 (ipykernel)",
   "language": "python",
   "name": "python3"
  },
  "language_info": {
   "codemirror_mode": {
    "name": "ipython",
    "version": 3
   },
   "file_extension": ".py",
   "mimetype": "text/x-python",
   "name": "python",
   "nbconvert_exporter": "python",
   "pygments_lexer": "ipython3",
   "version": "3.10.0"
  }
 },
 "nbformat": 4,
 "nbformat_minor": 5
}
